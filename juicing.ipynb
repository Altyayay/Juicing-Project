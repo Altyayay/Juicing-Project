{
 "cells": [
  {
   "cell_type": "code",
   "execution_count": 2,
   "metadata": {},
   "outputs": [
    {
     "data": {
      "application/vnd.jupyter.widget-view+json": {
       "model_id": "dd49bdd5ba1244c58a6857deeed9db81",
       "version_major": 2,
       "version_minor": 0
      },
      "text/plain": [
       "FloatSlider(value=5.0, description='X:', max=10.0, min=1.0)"
      ]
     },
     "metadata": {},
     "output_type": "display_data"
    },
    {
     "data": {
      "application/vnd.jupyter.widget-view+json": {
       "model_id": "57b77edfc146410bb2706820eafa53b5",
       "version_major": 2,
       "version_minor": 0
      },
      "text/plain": [
       "Label(value='Output: 7.0')"
      ]
     },
     "metadata": {},
     "output_type": "display_data"
    }
   ],
   "source": [
    "import ipywidgets as widgets\n",
    "from IPython.display import display\n",
    "import math\n",
    "\n",
    "def update_output(change):\n",
    "    x = slider.value\n",
    "   \n",
    "    def calculate_hexagonal_prism_volume(x):\n",
    "        hexagon_area = (3 * math.sqrt(3) * x ** 2) / 2\n",
    "        prism_volume = hexagon_area * 3 * x\n",
    "        return prism_volume\n",
    "\n",
    "    def calculate_truncated_pyramid_volume(x):\n",
    "        # Center cube volume\n",
    "        center_cube_volume = x ** 3\n",
    "\n",
    "        # Front and back trapezoid-shaped sections\n",
    "        front_area = (2.5 * x) * (3 * x * math.tan(math.pi/3)) / 2\n",
    "        front_tetrahedron_volume = (1 / 3) * front_area * (3 * x)\n",
    "        front_total_volume = 2 * (front_tetrahedron_volume + 0.5 * x * 3 * x)\n",
    "\n",
    "        # Left and right truncated tetrahedrons\n",
    "        tetrahedron_area = (1.5 * x) * (3 * x * math.tan(math.pi/3)) / 2\n",
    "        tetrahedron_volume = (1 / 3) * tetrahedron_area * (3 * x)\n",
    "        truncated_tetrahedron_volume = tetrahedron_volume - (x ** 3) / 2\n",
    "        side_total_volume = 4 * truncated_tetrahedron_volume\n",
    "\n",
    "        # Side sections\n",
    "        side_pyramid_volume = (1 / 3) * (2 * (1.5 * x) * (3 * x * math.tan(math.pi/3)) / 2) * (3 * x)\n",
    "        side_total_volume -= side_pyramid_volume * 4\n",
    "\n",
    "        # Total volume of the truncated pyramid\n",
    "        total_volume = center_cube_volume + front_total_volume + side_total_volume\n",
    "        return total_volume\n",
    "\n",
    "    hexagonal_prism_volume = calculate_hexagonal_prism_volume(x)\n",
    "    truncated_pyramid_volume = calculate_truncated_pyramid_volume(x)\n",
    "\n",
    "    total_volume = hexagonal_prism_volume + truncated_pyramid_volume\n",
    "    output.value = f\"Output: {total_volume:.1f}\"\n",
    "\n",
    "# Create slider widget\n",
    "slider = widgets.FloatSlider(\n",
    "    value=5.0,\n",
    "    min=1.0,\n",
    "    max=10.0,\n",
    "    step=0.1,\n",
    "    description='X:',\n",
    "    continuous_update=True\n",
    ")\n",
    "\n",
    "# Create output widget\n",
    "output = widgets.Label(value=\"Output: 7.0\")\n",
    "\n",
    "# Attach the event listener\n",
    "slider.observe(update_output, 'value')\n",
    "\n",
    "# Display widgets\n",
    "display(slider)\n",
    "display(output)"
   ]
  }
 ],
 "metadata": {
  "kernelspec": {
   "display_name": "Python 3",
   "language": "python",
   "name": "python3"
  },
  "language_info": {
   "codemirror_mode": {
    "name": "ipython",
    "version": 3
   },
   "file_extension": ".py",
   "mimetype": "text/x-python",
   "name": "python",
   "nbconvert_exporter": "python",
   "pygments_lexer": "ipython3",
   "version": "3.10.13"
  }
 },
 "nbformat": 4,
 "nbformat_minor": 2
}
